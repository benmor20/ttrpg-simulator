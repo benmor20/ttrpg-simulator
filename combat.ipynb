{
  "metadata": {
    "kernelspec": {
      "name": "python",
      "display_name": "Python (Pyodide)",
      "language": "python"
    },
    "language_info": {
      "codemirror_mode": {
        "name": "python",
        "version": 3
      },
      "file_extension": ".py",
      "mimetype": "text/x-python",
      "name": "python",
      "nbconvert_exporter": "python",
      "pygments_lexer": "ipython3",
      "version": "3.8"
    }
  },
  "nbformat_minor": 5,
  "nbformat": 4,
  "cells": [
    {
      "cell_type": "markdown",
      "source": "# Introduction\n\nOur project objective was first to simulate combat using the rules and frameworks of the popular tabletop role-playing game (TTRPG), Dungeons and Dragons (D&D), and then to use those simulated combat scenarios to determine the effectiveness over time of being able to guess an opponent's relavant combat statistics.  \n\nIn a TTRPG combat scenario, one character or set of characters (called an adventuring party, or simply \"party,\" for short) engages another character or party in battle. In D&D, the players know the relevant statistics for their own characters, and sometimes for their entire party, while the Dungeon Master, or DM, (the chief storyteller of the game, who provides the scenarios and context for the player characters to engage with) often obscures the relevant statistics of the opposing character(s). Usually, the players are entirely unaware of what statistics, skills, and special abilities an enemy combatant posesses until they are exposed to its moveset, attack, and defense abilities in real-time during a battle. Knowing this, we wondered: with a basic understanding of Bayesian probability, how easy or quick would it be for a player party to be able to correctly guess an enemy combatant's relevant statistics in battle?\n\nIn order to understand what goes into that process, let's first talk a bit more about the way combat in a TTRPG, namely D&D, is run.\n\n# Dungeons and Dragons Combat Mechanics\n\nCombat, in the world of Dungeons and Dragons, is a surprisingly civilized affair: opposing parties operate on a turn-based system, determined initially by which character is quickest to act (through an \"Initiative Roll\"), followed by the next, down the line and looping back around to the same order in the next round of combat. During one's turn, a character can act in a few different ways. They can make an Attack, which may be either Melee, Ranged, Magical, or in some cases, using a Special Ability. They can Move, a number of feet based on their Speed statistic. They can also perform Bonus Actions or act upon any other Special Abilities they have. \n\nAn Attack hits an opponent if the Attack Roll (1 roll of a 20-sided die, known as a d20, plus the attacker's relevant weapon modifier and Proficiency Bonus, if applicable) is greater than or equal to the defender's Armor Class, or AC (the character's Dexterity modifier, plus 10, plus any bonus from worn armor). Damage is determined by a roll of a die, often either a d4, a d6, or a d8, depending on the weapon used, and the damge is subtracted by the character's total amount of Hit Points, or HP. When a character's HP is 0 or less, the character is unconscious and cannot take further action in battle. Combat ends when one full party is decommissioned from battle, meaning all characters are unconscious or dead, or if one party flees or surrenders in some other manner.\n\nIn our model, we have made several simplifications and allowances for ease of following combat proceedings. Since a character's special abilities can become hyper-specialized, further abilities are gained by increasing character level, and the amount of magical combat spells in D&D is exorbitant, we decided to stick to Melee weapons combat, giving each character a weapon that utilizes either their Strength statistic or their Dexterity statistic. Additionally, we decided to ignore speed in an effort for this to not evolve into a project involving game theory, strategy interviews, or any models for random motion. This is D&D combat in its purest, simplest form: a bunch of characters standing around and hitting each other. What could be better?",
      "metadata": {},
      "id": "a35eeb9f-df70-4ab1-a243-2d2025888eb0"
    },
    {
      "cell_type": "code",
      "source": "\"\"\"\nModule containing classes that represent characters\n\"\"\"\nimport random\nfrom typing import *\n\n\nclass Character:\n    def __init__(self, name: str, hp: int, dex: int, stren: int, prof: int, weapon_die: int, finesse: bool):\n        \"\"\"\n        Creates a new character with the given stats\n        :param name: a string, this character's name (and UID)\n        :param hp: an int, the maximum HP\n        :param dex: an int, the Dexterity score\n        :param stren: an int, the Strength score\n        :param prof: an int, the character's proficiency bonus\n        :param weapon_die: an int, the size of the die that is rolled to determine a weapon's damage\n        :param finesse: a boolean, True if the weapon is finesse\n        \"\"\"\n        self.name = name\n        self.max_hp = hp\n        self.hp = hp\n        self.dex = dex\n        self.stren = stren\n        self.prof = prof\n        self.weapon_die = weapon_die\n        self.finesse = finesse\n\n    @property\n    def dex_mod(self) -> int:\n        \"\"\"\n        :return: an int, this character's dexterity modifier\n        \"\"\"\n        return (self.dex - 10) // 2\n\n    @property\n    def str_mod(self) -> int:\n        \"\"\"\n        :return: an int, this character's strength modifier\n        \"\"\"\n        return (self.stren - 10) // 2\n\n    @property\n    def weapon_bonus(self) -> int:\n        \"\"\"\n        :return: an int, the character's best bonus\n        \"\"\"\n        return max(self.dex_mod, self.str_mod) if self.finesse else self.str_mod\n\n    @property\n    def ac(self) -> int:\n        \"\"\"\n        :return: an int, this character's armor class\n        \"\"\"\n        return 10 + self.dex_mod\n\n    def roll_initiative(self) -> Tuple[int, int]:\n        \"\"\"\n        :return: a tuple of ints, this character's initiative followed by their dex score (for tiebreaks)\n        \"\"\"\n        return random.randint(1, 20) + self.dex_mod, self.dex\n\n    def roll_to_hit(self) -> int:\n        \"\"\"\n        :return: an int, the value this character has rolled to hit\n        \"\"\"\n        return random.randint(1, 20) + self.weapon_bonus + self.prof\n\n    def roll_damage(self) -> int:\n        \"\"\"\n        :return: an int, the amount of damage this character does\n        \"\"\"\n        return random.randint(1, self.weapon_die) + self.weapon_bonus\n\n    def __hash__(self):\n        return hash(self.name)",
      "metadata": {
        "trusted": true
      },
      "execution_count": 6,
      "outputs": [],
      "id": "fe55883a-6887-43dd-9498-5333a51799e2"
    },
    {
      "cell_type": "markdown",
      "source": "After defining the Character class with relevant statistics, we moved on to simulating the battle. We defined 3 characters, 2 in the player party and 1 in the DM party, using our Character class, then wrote a function that would make them roll Initiative, and in turn order, beat each other up until both members of one party hit 0 HP. Then, we printed messages letting us know which damage was dealt in each turn and a message letting us know which party had won.",
      "metadata": {},
      "id": "a0ff5f2c-1041-458b-8d98-d6c9815abc5a"
    },
    {
      "cell_type": "code",
      "source": "def simulate_battle(verbose: bool = False, plot: bool = False):\n    party1 = [Character('Manster Wipower', 90, 10, 10, 0, 8, False),\n              Character('Abayes Satano\\'brien', 150, 14, 10, 0, 10, False)]\n    party2 = [Character('Blelduth Chestsplitter', 240, 14, 10, 0, 8, False)]\n    mod_est = {c.name: ModifierEstimator() for c in party2}\n    ac_est = {c.name: ACEstimator() for c in party2}\n    all_characters = {c.name: c for c in party1 + party2}\n    initiative = {n: c.roll_initiative() for n, c in all_characters.items()}\n    initiative_order = sorted(all_characters.keys(), key=lambda i: initiative[i], reverse=True)\n\n    ac_full_range = ac_est[party2[0].name].xvals\n    acrange = [max(ac_full_range) - min(ac_full_range) + 1]\n    mod_full_range = ac_est[party2[0].name].xvals\n    modrange = [max(mod_full_range) - min(mod_full_range) + 1]\n    p1hp = [sum(c.hp for c in party1)]\n    p2hp = [sum(c.hp for c in party2)]\n\n    if verbose:\n        print(f'Initiative order is {initiative_order} (scores are {initiative})')\n    while True:\n        for name in initiative_order:\n            character = all_characters[name]\n            is_party1 = any(c.name == name for c in party1)\n            if character.hp <= 0:\n                continue\n            other_party = party2 if is_party1 else party1\n            if all(c.hp <= 0 for c in other_party):\n                break\n            opponent = random.choice(other_party)\n            while opponent.hp <= 0:\n                opponent = random.choice(other_party)\n\n            to_hit = character.roll_to_hit()\n            hit = to_hit >= opponent.ac\n            if hit:\n                damage = character.roll_damage()\n                opponent.hp -= damage\n                if verbose:\n                    print(f'{name} hit {opponent.name} for {damage} damage (they have {opponent.hp} HP left)')\n                    if opponent.hp <= 0:\n                        print(f'{opponent.name} is DEAD')\n\n            if is_party1:\n                ac_est[opponent.name].update((to_hit, hit))\n                poss = ac_est[opponent.name].xvals[ac_est[opponent.name].current_estimate > 0]\n                acrange.append(max(poss) - min(poss) + 1)\n            else:\n                mod_est[name].update(to_hit)\n                poss = mod_est[name].xvals[mod_est[name].current_estimate > 0]\n                modrange.append(max(poss) - min(poss) + 1)\n        p1hp.append(sum(c.hp for c in party1))\n        p2hp.append(sum(c.hp for c in party2))\n        # if verbose:\n        #     display_est_plots(mod_est, ac_est)\n        if all(c.hp <= 0 for c in party1):\n            if verbose:\n                print('Freak the Mighty wins!')\n            break\n        if all(c.hp <= 0 for c in party2):\n            if verbose:\n                print('Hell Raisers win!')\n            break\n        if acrange[-1] == 1 and modrange[-1] == 1:\n            acest = ac_est[party2[0].name]\n            modest = mod_est[party2[0].name]\n            assert acest.xvals[acest.current_estimate > 0][0] == party2[0].ac\n            assert modest.xvals[modest.current_estimate > 0][0] == party2[0].weapon_bonus + party2[0].prof\n            break\n",
      "metadata": {
        "trusted": true
      },
      "execution_count": 7,
      "outputs": [],
      "id": "f46a856a-8f13-415d-89de-fd253164855b"
    },
    {
      "cell_type": "markdown",
      "source": "After we had created a working simulation of a simplified combat scenario, it was time to introduce our means of estimation.",
      "metadata": {},
      "id": "bcb5c98f-a782-4f78-a1a1-86779deb82d8"
    }
  ]
}